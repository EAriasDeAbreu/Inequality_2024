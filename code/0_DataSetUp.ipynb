{
 "cells": [
  {
   "cell_type": "code",
   "execution_count": 1,
   "metadata": {},
   "outputs": [],
   "source": [
    "import pandas as pd\n",
    "import numpy as np \n",
    "import matplotlib.pyplot as plt\n",
    "import seaborn as sns"
   ]
  },
  {
   "cell_type": "markdown",
   "metadata": {},
   "source": [
    "## Load Raw Data from WID"
   ]
  },
  {
   "cell_type": "code",
   "execution_count": 2,
   "metadata": {},
   "outputs": [],
   "source": [
    "df = pd.read_excel('/Users/edmundoarias/Documents/GitHub/Inequality_2024/data/clean/data.xlsx')"
   ]
  },
  {
   "cell_type": "code",
   "execution_count": 3,
   "metadata": {},
   "outputs": [],
   "source": [
    "income_df = df[df['ind_name'].str.startswith('sptinc_p90p100_z_')].copy()\n",
    "wealth_df = df[df['ind_name'].str.startswith('shweal_p90p100_z_')].copy()\n",
    "\n",
    "# Rename the 'value' column in each DataFrame\n",
    "income_df = income_df.rename(columns={'value': 'ctr_top10income'})\n",
    "wealth_df = wealth_df.rename(columns={'value': 'ctr_top10wealth'})\n",
    "\n",
    "# Select only the needed columns\n",
    "income_df = income_df[['ctr_id', 'ctr_name', 't_year', 'ctr_top10income']]\n",
    "wealth_df = wealth_df[['ctr_id', 'ctr_name', 't_year', 'ctr_top10wealth']]\n",
    "\n",
    "# Merge the two DataFrames on 'ctr_name' and 't_year'\n",
    "result_df = pd.merge(income_df, wealth_df, on=['ctr_name', 't_year'], how='outer')\n",
    "\n",
    "# Sort the DataFrame by country and year\n",
    "result_df = result_df.sort_values(['ctr_name', 't_year']).reset_index(drop=True)"
   ]
  },
  {
   "cell_type": "code",
   "execution_count": 4,
   "metadata": {},
   "outputs": [],
   "source": [
    "# drop column\n",
    "result_df = result_df.drop(columns=['ctr_id_y'])\n",
    "\n",
    "# rename column\n",
    "result_df = result_df.rename(columns={'ctr_id_x': 'ctr_id'})"
   ]
  }
 ],
 "metadata": {
  "kernelspec": {
   "display_name": "Python 3",
   "language": "python",
   "name": "python3"
  },
  "language_info": {
   "codemirror_mode": {
    "name": "ipython",
    "version": 3
   },
   "file_extension": ".py",
   "mimetype": "text/x-python",
   "name": "python",
   "nbconvert_exporter": "python",
   "pygments_lexer": "ipython3",
   "version": "3.12.2"
  }
 },
 "nbformat": 4,
 "nbformat_minor": 2
}
